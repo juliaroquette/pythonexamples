{
 "cells": [
  {
   "cell_type": "markdown",
   "metadata": {
    "toc": true
   },
   "source": [
    "<h1>Table of Contents<span class=\"tocSkip\"></span></h1>\n",
    "<div class=\"toc\"><ul class=\"toc-item\"><li><span><a href=\"#read-and-plot-a-fits-image:\" data-toc-modified-id=\"read-and-plot-a-fits-image:-1\"><span class=\"toc-item-num\">1&nbsp;&nbsp;</span>read and plot a <code>fits</code> image:</a></span></li><li><span><a href=\"#fits-table:\" data-toc-modified-id=\"fits-table:-2\"><span class=\"toc-item-num\">2&nbsp;&nbsp;</span><code>fits</code> table:</a></span><ul class=\"toc-item\"><li><span><a href=\"#read-a-file:\" data-toc-modified-id=\"read-a-file:-2.1\"><span class=\"toc-item-num\">2.1&nbsp;&nbsp;</span>read a file:</a></span><ul class=\"toc-item\"><li><span><a href=\"#Reading-the-full-data:\" data-toc-modified-id=\"Reading-the-full-data:-2.1.1\"><span class=\"toc-item-num\">2.1.1&nbsp;&nbsp;</span>Reading the full data:</a></span></li><li><span><a href=\"#Read-Table-from-fits:\" data-toc-modified-id=\"Read-Table-from-fits:-2.1.2\"><span class=\"toc-item-num\">2.1.2&nbsp;&nbsp;</span>Read <code>Table</code> from <code>fits</code>:</a></span></li></ul></li><li><span><a href=\"#write-a-file:\" data-toc-modified-id=\"write-a-file:-2.2\"><span class=\"toc-item-num\">2.2&nbsp;&nbsp;</span>write a file:</a></span><ul class=\"toc-item\"><li><span><a href=\"#put-your-data-in-Tables\" data-toc-modified-id=\"put-your-data-in-Tables-2.2.1\"><span class=\"toc-item-num\">2.2.1&nbsp;&nbsp;</span>put your data in <code>Tables</code></a></span></li><li><span><a href=\"#Creates-a-header:\" data-toc-modified-id=\"Creates-a-header:-2.2.2\"><span class=\"toc-item-num\">2.2.2&nbsp;&nbsp;</span>Creates a header:</a></span></li><li><span><a href=\"#Creates-a-primary-unit:\" data-toc-modified-id=\"Creates-a-primary-unit:-2.2.3\"><span class=\"toc-item-num\">2.2.3&nbsp;&nbsp;</span>Creates a primary unit:</a></span></li><li><span><a href=\"#Creates-a-data-unit-and-write-a-&quot;regular&quot;-fits-file:\" data-toc-modified-id=\"Creates-a-data-unit-and-write-a-&quot;regular&quot;-fits-file:-2.2.4\"><span class=\"toc-item-num\">2.2.4&nbsp;&nbsp;</span>Creates a data unit and write a \"regular\" fits file:</a></span></li><li><span><a href=\"#Put-several-data-units-together-and-make-a-multi-extension-file:\" data-toc-modified-id=\"Put-several-data-units-together-and-make-a-multi-extension-file:-2.2.5\"><span class=\"toc-item-num\">2.2.5&nbsp;&nbsp;</span>Put several data units together and make a multi-extension file:</a></span></li></ul></li></ul></li></ul></div>"
   ]
  },
  {
   "cell_type": "markdown",
   "metadata": {},
   "source": [
    "*Last modified 17May19*\n",
    "\n",
    "**@juliaroquette: In this notebook I show different examples on how to manipulate `fits` filtes**\n",
    "\n",
    "What is a `fits` file? https://fits.gsfc.nasa.gov/"
   ]
  },
  {
   "cell_type": "markdown",
   "metadata": {},
   "source": [
    "# Read and Write `fits`"
   ]
  },
  {
   "cell_type": "code",
   "execution_count": 9,
   "metadata": {},
   "outputs": [],
   "source": [
    "mydir='/Users/jroquette/work/prog/jupyter/tutorial/files/'"
   ]
  },
  {
   "cell_type": "markdown",
   "metadata": {},
   "source": [
    "## read and plot a `fits` image:"
   ]
  },
  {
   "cell_type": "markdown",
   "metadata": {},
   "source": [
    "For dealing with images, I suggest taking a look on this \n",
    "`astropy` official tutorial:\n",
    "http://docs.astropy.org/en/stable/generated/examples/io/plot_fits-image.html#sphx-glr-generated-examples-io-plot-fits-image-py"
   ]
  },
  {
   "cell_type": "markdown",
   "metadata": {},
   "source": [
    "## `fits` table:"
   ]
  },
  {
   "cell_type": "markdown",
   "metadata": {},
   "source": [
    "For reading `fits` files you will need the fits module from astropy. "
   ]
  },
  {
   "cell_type": "code",
   "execution_count": 5,
   "metadata": {},
   "outputs": [],
   "source": [
    "import astropy.io.fits as fits"
   ]
  },
  {
   "cell_type": "markdown",
   "metadata": {},
   "source": [
    "### read a file:"
   ]
  },
  {
   "cell_type": "markdown",
   "metadata": {},
   "source": [
    "Let's consider the following example:"
   ]
  },
  {
   "cell_type": "code",
   "execution_count": 57,
   "metadata": {},
   "outputs": [],
   "source": [
    "testfile='example3.fits' #name the file to be read"
   ]
  },
  {
   "cell_type": "markdown",
   "metadata": {},
   "source": [
    "You can display information about the file without properly charging it:"
   ]
  },
  {
   "cell_type": "code",
   "execution_count": 58,
   "metadata": {
    "scrolled": true
   },
   "outputs": [
    {
     "name": "stdout",
     "output_type": "stream",
     "text": [
      "Filename: /Users/jroquette/work/prog/jupyter/tutorial/files/example3.fits\n",
      "No.    Name      Ver    Type      Cards   Dimensions   Format\n",
      "  0  PRIMARY       1 PrimaryHDU      16   (997345,)   uint8   \n",
      "  1  /Users/bouvijer/Documents/Reunions_diverses/Projects/Monitor/NGC3...    1 BinTableHDU     33   211R x 7C   [E, E, 402D, 402E, 402E, D, D]   \n"
     ]
    }
   ],
   "source": [
    "fits.info(mydir+testfile)"
   ]
  },
  {
   "cell_type": "markdown",
   "metadata": {},
   "source": [
    "Notice that the file in the example contains A primary extintion, plus a secondary extension containing data."
   ]
  },
  {
   "cell_type": "markdown",
   "metadata": {},
   "source": [
    "#### Reading the full data:"
   ]
  },
  {
   "cell_type": "markdown",
   "metadata": {},
   "source": [
    "To open the fits itself:"
   ]
  },
  {
   "cell_type": "code",
   "execution_count": 59,
   "metadata": {
    "scrolled": true
   },
   "outputs": [],
   "source": [
    "hdu=fits.open(mydir+testfile)"
   ]
  },
  {
   "cell_type": "markdown",
   "metadata": {},
   "source": [
    "To see the header of the primary unit:"
   ]
  },
  {
   "cell_type": "code",
   "execution_count": 60,
   "metadata": {},
   "outputs": [
    {
     "data": {
      "text/plain": [
       "SIMPLE  =                    T / Standard FITS format                           \n",
       "BITPIX  =                    8 / Character data                                 \n",
       "NAXIS   =                    1 / Text string                                    \n",
       "NAXIS1  =               997345 / Number of characters                           \n",
       "VOTMETA =                    T / Table metadata in VOTable format               \n",
       "EXTEND  =                    T / There are standard extensions                  \n",
       "COMMENT                                                                         \n",
       "COMMENT The data in this primary HDU consists of bytes which                    \n",
       "COMMENT comprise a VOTABLE document.                                            \n",
       "COMMENT The VOTable describes the metadata of the table contained               \n",
       "COMMENT in the following BINTABLE extension.                                    \n",
       "COMMENT Such a BINTABLE extension can be used on its own as a perfectly         \n",
       "COMMENT good table, but the information from this HDU may provide some          \n",
       "COMMENT useful additional metadata.                                             \n",
       "COMMENT There is one following BINTABLE.                                        \n",
       "NTABLE  =                    1 / Number of following BINTABLE HDUs              "
      ]
     },
     "execution_count": 60,
     "metadata": {},
     "output_type": "execute_result"
    }
   ],
   "source": [
    "hdu[0].header"
   ]
  },
  {
   "cell_type": "markdown",
   "metadata": {},
   "source": [
    "To see the header of the secondary unit:"
   ]
  },
  {
   "cell_type": "code",
   "execution_count": 61,
   "metadata": {},
   "outputs": [
    {
     "data": {
      "text/plain": [
       "XTENSION= 'BINTABLE'           / binary table extension                         \n",
       "BITPIX  =                    8 / 8-bit bytes                                    \n",
       "NAXIS   =                    2 / 2-dimensional table                            \n",
       "NAXIS1  =                 6456 / width of table in bytes                        \n",
       "NAXIS2  =                  211 / number of rows in table                        \n",
       "PCOUNT  =                    0 / size of special data area                      \n",
       "GCOUNT  =                    1 / one data group                                 \n",
       "TFIELDS =                    7 / number of columns                              \n",
       "EXTNAME = '/Users/bouvijer/Documents/Reunions_diverses/Projects/Monitor/NGC3...'\n",
       "TTYPE1  = 'medflux '           / label for column 1                             \n",
       "TFORM1  = 'E       '           / format for column 1                            \n",
       "TUNIT1  = 'mag     '           / units for column 1                             \n",
       "TTYPE2  = 'rms     '           / label for column 2                             \n",
       "TFORM2  = 'E       '           / format for column 2                            \n",
       "TUNIT2  = 'mag     '           / units for column 2                             \n",
       "TTYPE3  = 'hjd     '           / label for column 3                             \n",
       "TFORM3  = '402D    '           / format for column 3                            \n",
       "TUNIT3  = 'days    '           / units for column 3                             \n",
       "TTYPE4  = 'flux    '           / label for column 4                             \n",
       "TFORM4  = '402E    '           / format for column 4                            \n",
       "TUNIT4  = 'mag     '           / units for column 4                             \n",
       "TTYPE5  = 'fluxerr '           / label for column 5                             \n",
       "TFORM5  = '402E    '           / format for column 5                            \n",
       "TUNIT5  = 'mag     '           / units for column 5                             \n",
       "TTYPE6  = 'ra      '           / label for column 6                             \n",
       "TFORM6  = 'D       '           / format for column 6                            \n",
       "TUNIT6  = 'radians '           / units for column 6                             \n",
       "TTYPE7  = 'dec     '           / label for column 7                             \n",
       "TFORM7  = 'D       '           / format for column 7                            \n",
       "TUNIT7  = 'radians '           / units for column 7                             \n",
       "DATE-HDU= '2018-04-19T08:15:53' / Date of HDU creation (UTC)                    \n",
       "STILVERS= '3.2-2   '           / Version of STIL software                       \n",
       "STILCLAS= 'uk.ac.starlink.votable.FitsPlusTableWriter' / Author class in STIL so"
      ]
     },
     "execution_count": 61,
     "metadata": {},
     "output_type": "execute_result"
    }
   ],
   "source": [
    "hdu[1].header"
   ]
  },
  {
   "cell_type": "markdown",
   "metadata": {},
   "source": [
    "To see the content of the columns:"
   ]
  },
  {
   "cell_type": "code",
   "execution_count": 62,
   "metadata": {},
   "outputs": [
    {
     "data": {
      "text/plain": [
       "ColDefs(\n",
       "    name = 'medflux'; format = 'E'; unit = 'mag'\n",
       "    name = 'rms'; format = 'E'; unit = 'mag'\n",
       "    name = 'hjd'; format = '402D'; unit = 'days'\n",
       "    name = 'flux'; format = '402E'; unit = 'mag'\n",
       "    name = 'fluxerr'; format = '402E'; unit = 'mag'\n",
       "    name = 'ra'; format = 'D'; unit = 'radians'\n",
       "    name = 'dec'; format = 'D'; unit = 'radians'\n",
       ")"
      ]
     },
     "execution_count": 62,
     "metadata": {},
     "output_type": "execute_result"
    }
   ],
   "source": [
    "hdu[1].columns"
   ]
  },
  {
   "cell_type": "markdown",
   "metadata": {},
   "source": [
    "To the get the data in one of the columns:"
   ]
  },
  {
   "cell_type": "code",
   "execution_count": 63,
   "metadata": {},
   "outputs": [],
   "source": [
    "medflux=hdu[1].data[\"medflux\"]"
   ]
  },
  {
   "cell_type": "code",
   "execution_count": 65,
   "metadata": {},
   "outputs": [
    {
     "data": {
      "text/plain": [
       "numpy.ndarray"
      ]
     },
     "execution_count": 65,
     "metadata": {},
     "output_type": "execute_result"
    }
   ],
   "source": [
    "type(medflux)"
   ]
  },
  {
   "cell_type": "code",
   "execution_count": 66,
   "metadata": {},
   "outputs": [
    {
     "data": {
      "text/plain": [
       "(211,)"
      ]
     },
     "execution_count": 66,
     "metadata": {},
     "output_type": "execute_result"
    }
   ],
   "source": [
    "medflux.shape"
   ]
  },
  {
   "cell_type": "code",
   "execution_count": 67,
   "metadata": {
    "scrolled": true
   },
   "outputs": [
    {
     "name": "stdout",
     "output_type": "stream",
     "text": [
      "22.6865 12.549112\n"
     ]
    }
   ],
   "source": [
    "print(medflux.max(),medflux.min())"
   ]
  },
  {
   "cell_type": "markdown",
   "metadata": {},
   "source": [
    "Also, since you opened the full file, you shall close it at the end"
   ]
  },
  {
   "cell_type": "code",
   "execution_count": 70,
   "metadata": {},
   "outputs": [],
   "source": [
    "hdu.close()"
   ]
  },
  {
   "cell_type": "markdown",
   "metadata": {},
   "source": [
    "#### Read `Table` from `fits`:\n",
    "\n",
    "Alternatively, you can read a `Table` from a `fits` file:"
   ]
  },
  {
   "cell_type": "code",
   "execution_count": 69,
   "metadata": {},
   "outputs": [],
   "source": [
    "from astropy.table import Table"
   ]
  },
  {
   "cell_type": "code",
   "execution_count": 71,
   "metadata": {},
   "outputs": [],
   "source": [
    "data=Table.read(mydir+testfile, format='fits')"
   ]
  },
  {
   "cell_type": "code",
   "execution_count": 73,
   "metadata": {
    "scrolled": false
   },
   "outputs": [
    {
     "data": {
      "text/html": [
       "<i>Table length=211</i>\n",
       "<table id=\"table4684692616-366588\" class=\"table-striped table-bordered table-condensed\">\n",
       "<thead><tr><th>idx</th><th>medflux</th><th>rms</th><th>hjd [402]</th><th>flux [402]</th><th>fluxerr [402]</th><th>ra</th><th>dec</th></tr></thead>\n",
       "<thead><tr><th></th><th>mag</th><th>mag</th><th>days</th><th>mag</th><th>mag</th><th>radians</th><th>radians</th></tr></thead>\n",
       "<tr><td>0</td><td>17.13184</td><td>0.010563202</td><td>56783.97198645507 .. 56838.016585763144</td><td>17.130749 .. 17.112213</td><td>0.004397696 .. 0.004083099</td><td>3.0470940286365247</td><td>-1.0777059422525854</td></tr>\n",
       "<tr><td>1</td><td>22.348316</td><td>0.75586385</td><td>56783.97198650308 .. 56838.016585679834</td><td>22.345188 .. nan</td><td>0.3516393 .. nan</td><td>3.04708507033554</td><td>-1.0776788091942195</td></tr>\n",
       "<tr><td>2</td><td>19.511713</td><td>0.063293114</td><td>56783.97198660245 .. 56838.01658576548</td><td>19.503965 .. 19.669811</td><td>0.030931931 .. 0.03362994</td><td>3.047126132161055</td><td>-1.0776716605799321</td></tr>\n",
       "<tr><td>3</td><td>19.004272</td><td>0.039630357</td><td>56783.97198673731 .. 56838.01658588719</td><td>19.005583 .. 19.01118</td><td>0.02005022 .. 0.018934358</td><td>3.0471831257003736</td><td>-1.0776629973602616</td></tr>\n",
       "<tr><td>4</td><td>20.623756</td><td>0.17812629</td><td>56783.971986667944 .. 56838.016585737576</td><td>20.517723 .. 20.528362</td><td>0.07538423 .. 0.071612164</td><td>3.047133713376903</td><td>-1.0776509301448063</td></tr>\n",
       "<tr><td>5</td><td>20.257208</td><td>0.103538856</td><td>56783.97198674661 .. 56838.016585831465</td><td>20.184286 .. 20.19882</td><td>0.056254197 .. 0.053596936</td><td>3.0471722437405915</td><td>-1.0776502239465862</td></tr>\n",
       "<tr><td>6</td><td>19.006493</td><td>0.03134804</td><td>56783.971986680015 .. 56838.01658569507</td><td>19.021538 .. 18.968992</td><td>0.02030993 .. 0.018245537</td><td>3.0471264829626215</td><td>-1.07764001448853</td></tr>\n",
       "<tr><td>7</td><td>18.76265</td><td>0.04548359</td><td>56783.97198670378 .. 56838.016585664875</td><td>18.79406 .. 18.748518</td><td>0.016697124 .. 0.015098251</td><td>3.0471245994967124</td><td>-1.0776286811241873</td></tr>\n",
       "<tr><td>8</td><td>17.985977</td><td>0.01328022</td><td>56783.97198672277 .. 56838.01658562576</td><td>17.988388 .. 17.995779</td><td>0.008520829 .. 0.008061975</td><td>3.047119634220501</td><td>-1.0776167773112775</td></tr>\n",
       "<tr><td>9</td><td>19.016228</td><td>0.36065274</td><td>56783.971986713834 .. 56838.01658558727</td><td>18.818275 .. 19.410248</td><td>0.03297122 .. 0.052524853</td><td>3.0471088327770857</td><td>-1.0776115725239674</td></tr>\n",
       "<tr><td>10</td><td>19.45095</td><td>0.07225998</td><td>56783.971986881166 .. 56838.01658576004</td><td>19.38342 .. 19.455065</td><td>0.027811797 .. 0.027846485</td><td>3.047184560856468</td><td>-1.0776049530768264</td></tr>\n",
       "<tr><td>11</td><td>20.192034</td><td>0.2018568</td><td>56783.97198692292 .. 56838.01658576502</td><td>20.103428 .. 20.265545</td><td>0.10300609 .. 0.11173307</td><td>3.0471946539845773</td><td>-1.0775960604349222</td></tr>\n",
       "<tr><td>12</td><td>21.8668</td><td>0.52677405</td><td>56783.971987058234 .. 56838.01658591218</td><td>21.423296 .. 22.518528</td><td>0.16503674 .. 0.3816631</td><td>3.04725761116934</td><td>-1.077592120543839</td></tr>\n",
       "<tr><td>13</td><td>19.92813</td><td>0.09423184</td><td>56783.97198701131 .. 56838.016585838464</td><td>19.824762 .. 19.980755</td><td>0.040963084 .. 0.04421454</td><td>3.0472305414448537</td><td>-1.0775891793552195</td></tr>\n",
       "<tr><td>14</td><td>19.065687</td><td>0.05260994</td><td>56783.97198692266 .. 56838.01658570877</td><td>19.040546 .. 19.106876</td><td>0.02063331 .. 0.020552551</td><td>3.047181607702581</td><td>-1.0775854402024803</td></tr>\n",
       "<tr><td>15</td><td>20.286556</td><td>0.14777191</td><td>56783.971987076366 .. 56838.016585879675</td><td>20.279219 .. 20.276905</td><td>0.06111112 .. 0.057406176</td><td>3.0472539867901984</td><td>-1.0775816759086994</td></tr>\n",
       "<tr><td>16</td><td>21.241951</td><td>0.35722366</td><td>56783.97198710581 .. 56838.016585872225</td><td>21.488583 .. 21.07004</td><td>0.17436263 .. 0.11492878</td><td>3.047258568641901</td><td>-1.0775733228243154</td></tr>\n",
       "<tr><td>17</td><td>19.795523</td><td>0.17426036</td><td>56783.97198701052 .. 56838.01658578991</td><td>19.844753 .. 19.931839</td><td>0.08207246 .. 0.083402045</td><td>3.047219158020827</td><td>-1.0775801467817165</td></tr>\n",
       "<tr><td>18</td><td>17.963963</td><td>0.013640136</td><td>56783.97198701593 .. 56838.01658575107</td><td>17.96156 .. 17.928003</td><td>0.008336872 .. 0.007634442</td><td>3.0472113479877687</td><td>-1.0775714956841627</td></tr>\n",
       "<tr><td>19</td><td>18.947233</td><td>0.05931427</td><td>56783.97198706419 .. 56838.01658578929</td><td>19.010235 .. 18.795673</td><td>0.020100627 .. 0.015720958</td><td>3.0472305063266245</td><td>-1.07756738176237</td></tr>\n",
       "<tr><td>20</td><td>21.446487</td><td>0.38088995</td><td>56783.971986667595 .. 56838.01658523901</td><td>21.819046 .. 21.369492</td><td>0.229385 .. 0.14845103</td><td>3.047018524952879</td><td>-1.077556325948042</td></tr>\n",
       "<tr><td>21</td><td>13.510204</td><td>0.03528595</td><td>56783.9719867257 .. 56838.0165854186</td><td>13.587477 .. 13.488913</td><td>0.00061962544 .. 0.0006036813</td><td>3.047072428234942</td><td>-1.0775767431144565</td></tr>\n",
       "<tr><td>22</td><td>20.616428</td><td>0.15583828</td><td>56783.97198659327 .. 56838.016585269004</td><td>20.608225 .. 20.8565</td><td>0.081406526 .. 0.09529322</td><td>3.0470095289781143</td><td>-1.0775795352192579</td></tr>\n",
       "<tr><td>23</td><td>17.967731</td><td>0.032671966</td><td>56783.97198685285 .. 56838.016585475365</td><td>17.990484 .. 17.965971</td><td>0.011364645 .. 0.010456615</td><td>3.04711276394762</td><td>-1.0775575635694985</td></tr>\n",
       "<tr><td>24</td><td>16.277952</td><td>0.03037979</td><td>56783.97198668983 .. 56838.01658532191</td><td>16.29435 .. 16.260733</td><td>0.002467743 .. 0.002283177</td><td>3.047042424503915</td><td>-1.0775668308892838</td></tr>\n",
       "<tr><td>25</td><td>19.049702</td><td>0.38353288</td><td>56783.97198682292 .. 56838.01658550191</td><td>19.371817 .. 18.714233</td><td>0.0381039 .. 0.020021042</td><td>3.0471124852912337</td><td>-1.0775696564438617</td></tr>\n",
       "<tr><td>26</td><td>18.349821</td><td>0.026216049</td><td>56783.9719868376 .. 56838.01658548959</td><td>18.35278 .. 18.386059</td><td>0.015535332 .. 0.015023435</td><td>3.0471127834889025</td><td>-1.0775638588442586</td></tr>\n",
       "<tr><td>27</td><td>16.894686</td><td>0.0089400485</td><td>56783.97198698782 .. 56838.01658562146</td><td>16.89193 .. 16.885454</td><td>0.003695682 .. 0.00346826</td><td>3.0471753980279597</td><td>-1.0775535048745253</td></tr>\n",
       "<tr><td>28</td><td>20.678888</td><td>0.27816904</td><td>56783.97198719452 .. 56838.01658583306</td><td>20.378305 .. 21.535574</td><td>0.06663275 .. 0.17126974</td><td>3.047268517143869</td><td>-1.077544980167757</td></tr>\n",
       "<tr><td>29</td><td>19.527847</td><td>0.07874836</td><td>56783.971986856304 .. 56838.01658542075</td><td>19.531662 .. 19.554987</td><td>0.03160601 .. 0.030358903</td><td>3.0471008951909564</td><td>-1.0775463780495087</td></tr>\n",
       "<tr><td>30</td><td>21.682444</td><td>0.5085609</td><td>56783.97198672988 .. 56838.01658523783</td><td>21.79734 .. 21.622301</td><td>0.22526315 .. 0.18398523</td><td>3.047031592339333</td><td>-1.0775414259125284</td></tr>\n",
       "<tr><td>31</td><td>20.017355</td><td>0.11844646</td><td>56783.97198693254 .. 56838.01658547691</td><td>20.024992 .. 19.783808</td><td>0.0487686 .. 0.037126765</td><td>3.0471301866314167</td><td>-1.0775390783361583</td></tr>\n",
       "<tr><td>32</td><td>20.051785</td><td>0.09717045</td><td>56783.97198679305 .. 56838.01658526938</td><td>19.925299 .. 20.089268</td><td>0.0446368 .. 0.048561916</td><td>3.047052406051136</td><td>-1.0775325344697793</td></tr>\n",
       "<tr><td>33</td><td>20.83395</td><td>0.20897609</td><td>56783.97198678545 .. 56838.016585232785</td><td>20.829422 .. 20.835543</td><td>0.13706955 .. 0.12985772</td><td>3.0470423294862212</td><td>-1.0775273720631495</td></tr>\n",
       "<tr><td>34</td><td>19.728867</td><td>0.06151329</td><td>56783.97198689998 .. 56838.01658535294</td><td>19.683456 .. 19.79112</td><td>0.036090605 .. 0.037350915</td><td>3.047094595614955</td><td>-1.0775232070048064</td></tr>\n",
       "<tr><td>35</td><td>20.614101</td><td>0.14294903</td><td>56783.97198686232 .. 56838.01658531287</td><td>20.67292 .. 20.606173</td><td>0.08610105 .. 0.07654369</td><td>3.047077278727049</td><td>-1.0775244706079519</td></tr>\n",
       "<tr><td>36</td><td>18.899933</td><td>0.038494147</td><td>56783.97198706309 .. 56838.016585553494</td><td>18.886074 .. 18.899952</td><td>0.018038096 .. 0.01717787</td><td>3.0471758213992697</td><td>-1.0775228608820193</td></tr>\n",
       "<tr><td>37</td><td>19.078402</td><td>0.07571518</td><td>56783.971987089295 .. 56838.01658557608</td><td>19.070663 .. 19.278238</td><td>0.029172791 .. 0.032957852</td><td>3.047186648269168</td><td>-1.0775209736646079</td></tr>\n",
       "<tr><td>38</td><td>20.549038</td><td>0.14283188</td><td>56783.97198735192 .. 56838.01658588857</td><td>20.595722 .. 20.265234</td><td>0.08062338 .. 0.056805957</td><td>3.047315029523393</td><td>-1.0775184291324522</td></tr>\n",
       "<tr><td>39</td><td>22.267525</td><td>0.47982824</td><td>56783.97198721654 .. 56838.01658571703</td><td>22.047482 .. 21.85841</td><td>0.2768294 .. 0.22439905</td><td>3.04724643542656</td><td>-1.0775177580263822</td></tr>\n",
       "<tr><td>40</td><td>19.398615</td><td>0.06497273</td><td>56783.97198715441 .. 56838.01658563529</td><td>19.39651 .. 19.425753</td><td>0.02808967 .. 0.027122287</td><td>3.047214261363574</td><td>-1.0775168761660356</td></tr>\n",
       "<tr><td>41</td><td>20.54276</td><td>0.15406127</td><td>56783.971986823184 .. 56838.01658515249</td><td>20.496517 .. 20.451302</td><td>0.073717065 .. 0.06677114</td><td>3.04703187659435</td><td>-1.0775032299817664</td></tr>\n",
       "<tr><td>42</td><td>20.714718</td><td>0.18235072</td><td>56783.9719872441 .. 56838.01658563469</td><td>20.674572 .. 20.837553</td><td>0.086286336 .. 0.093801</td><td>3.0472333230192485</td><td>-1.0774956251472436</td></tr>\n",
       "<tr><td>43</td><td>22.199936</td><td>0.71051013</td><td>56783.97198692064 .. 56838.01658520466</td><td>21.895191 .. 21.186636</td><td>0.24402748 .. 0.1268367</td><td>3.0470647906142476</td><td>-1.0774901766661116</td></tr>\n",
       "<tr><td>44</td><td>17.513784</td><td>0.008464393</td><td>56783.97198703492 .. 56838.016585335434</td><td>17.518261 .. 17.528784</td><td>0.0058630686 .. 0.005567891</td><td>3.0471194509976818</td><td>-1.0774880847980712</td></tr>\n",
       "<tr><td>45</td><td>21.090445</td><td>0.23441163</td><td>56783.97198736452 .. 56838.01658571698</td><td>21.165855 .. 20.941664</td><td>0.1321816 .. 0.10272747</td><td>3.0472781049136675</td><td>-1.0774828742888891</td></tr>\n",
       "<tr><td>46</td><td>19.184273</td><td>0.050974082</td><td>56783.971987147124 .. 56838.016585464065</td><td>19.22849 .. 19.119226</td><td>0.024238504 .. 0.02075184</td><td>3.0471731697589495</td><td>-1.0774860755278006</td></tr>\n",
       "<tr><td>47</td><td>19.150509</td><td>0.12896168</td><td>56783.971987124 .. 56838.0165854182</td><td>19.212269 .. 19.227425</td><td>0.046788387 .. 0.04462323</td><td>3.0471576309057635</td><td>-1.0774828120791549</td></tr>\n",
       "<tr><td>48</td><td>19.423906</td><td>0.14479448</td><td>56783.9719868775 .. 56838.016585103775</td><td>19.396374 .. 19.162586</td><td>0.055107575 .. 0.04210436</td><td>3.047032267114122</td><td>-1.0774811795353607</td></tr>\n",
       "<tr><td>49</td><td>18.691547</td><td>0.0231744</td><td>56783.97198683932 .. 56838.01658504594</td><td>18.710615 .. 18.672745</td><td>0.01549026 .. 0.014122007</td><td>3.047010740671151</td><td>-1.0774791912621748</td></tr>\n",
       "<tr><td>50</td><td>20.044044</td><td>0.115842365</td><td>56783.97198741544 .. 56838.01658573879</td><td>20.074316 .. 19.90527</td><td>0.050937247 .. 0.041339118</td><td>3.0472940419333168</td><td>-1.0774750169355813</td></tr>\n",
       "<tr><td>51</td><td>20.035637</td><td>0.07816261</td><td>56783.971986927914 .. 56838.01658513636</td><td>20.006313 .. 20.067059</td><td>0.047882102 .. 0.04759247</td><td>3.04705058557571</td><td>-1.0774754909571898</td></tr>\n",
       "<tr><td>52</td><td>21.436504</td><td>0.4380793</td><td>56783.971987509394 .. 56838.01658582055</td><td>21.359365 .. 22.479029</td><td>0.1560276 .. 0.3698886</td><td>3.047333033338382</td><td>-1.077468401697574</td></tr>\n",
       "<tr><td>53</td><td>21.392399</td><td>0.2898402</td><td>56783.97198736203 .. 56838.01658563167</td><td>21.484463 .. 20.870394</td><td>0.17340735 .. 0.096516125</td><td>3.047257874015277</td><td>-1.0774672610719298</td></tr>\n",
       "<tr><td>54</td><td>20.282791</td><td>0.11831944</td><td>56783.971987363904 .. 56838.01658558386</td><td>20.242613 .. 20.396978</td><td>0.05902754 .. 0.06372424</td><td>3.0472472370696533</td><td>-1.0774577385139434</td></tr>\n",
       "<tr><td>55</td><td>19.00054</td><td>0.10776964</td><td>56783.971987113466 .. 56838.01658536039</td><td>19.101757 .. 19.051128</td><td>0.042395845 .. 0.03812696</td><td>3.047142030661992</td><td>-1.077474315336114</td></tr>\n",
       "<tr><td>56</td><td>18.28281</td><td>0.03324219</td><td>56783.9719871571 .. 56838.01658538152</td><td>18.298689 .. 18.275219</td><td>0.01096266 .. 0.010123094</td><td>3.0471562487231147</td><td>-1.077468046447927</td></tr>\n",
       "<tr><td>57</td><td>19.172956</td><td>0.041335374</td><td>56783.97198714774 .. 56838.016585328725</td><td>19.14847 .. 19.178743</td><td>0.022593405 .. 0.021841958</td><td>3.0471420583146767</td><td>-1.077460224938867</td></tr>\n",
       "<tr><td>58</td><td>21.35446</td><td>0.2583129</td><td>56783.97198683195 .. 56838.016584900295</td><td>21.31 .. 22.93175</td><td>0.14912586 .. 0.5195282</td><td>3.046975553090704</td><td>-1.0774532644582122</td></tr>\n",
       "<tr><td>59</td><td>21.425459</td><td>0.3402716</td><td>56783.9719870137 .. 56838.016585120604</td><td>21.318968 .. 21.191454</td><td>0.15037704 .. 0.12731813</td><td>3.047065318749459</td><td>-1.0774522842968093</td></tr>\n",
       "<tr><td>60</td><td>20.03474</td><td>0.08057053</td><td>56783.97198743197 .. 56838.016585618025</td><td>20.046806 .. 20.368483</td><td>0.04968264 .. 0.062149692</td><td>3.0472696965300363</td><td>-1.077448187220171</td></tr>\n",
       "<tr><td>61</td><td>20.778347</td><td>0.2049041</td><td>56783.971987524186 .. 56838.01658572982</td><td>20.740726 .. 20.264462</td><td>0.09139578 .. 0.05672685</td><td>3.04731524855782</td><td>-1.0774476843397724</td></tr>\n",
       "<tr><td>62</td><td>21.575478</td><td>0.4380299</td><td>56783.97198685142 .. 56838.01658488338</td><td>21.491991 .. nan</td><td>0.17405786 .. nan</td><td>3.0469758188944054</td><td>-1.077445462776435</td></tr>\n",
       "<tr><td>63</td><td>20.117352</td><td>0.08572792</td><td>56783.971987077304 .. 56838.016585143276</td><td>19.991793 .. 20.062233</td><td>0.047255892 .. 0.047386065</td><td>3.0470841714266097</td><td>-1.0774416011745298</td></tr>\n",
       "<tr><td>64</td><td>20.550785</td><td>0.21517795</td><td>56783.97198760227 .. 56838.0165857823</td><td>20.609865 .. 20.40195</td><td>0.08152222 .. 0.0640345</td><td>3.0473440807551304</td><td>-1.0774392482934005</td></tr>\n",
       "<tr><td>65</td><td>21.374496</td><td>0.28618035</td><td>56783.97198727033 .. 56838.01658530993</td><td>21.272503 .. 20.981232</td><td>0.1445669 .. 0.10618196</td><td>3.0471639695783588</td><td>-1.0774277675424901</td></tr>\n",
       "<tr><td>66</td><td>20.878197</td><td>0.2303368</td><td>56783.971987142955 .. 56838.0165851523</td><td>21.239822 .. 20.502535</td><td>0.1405045 .. 0.0698298</td><td>3.047100312325905</td><td>-1.077427844704906</td></tr>\n",
       "<tr><td>67</td><td>16.463268</td><td>0.008124237</td><td>56783.97198756216 .. 56838.016585705394</td><td>16.473032 .. 16.454739</td><td>0.0027720889 .. 0.0025882793</td><td>3.0473177381777146</td><td>-1.0774340977666632</td></tr>\n",
       "<tr><td>68</td><td>20.10125</td><td>0.3109172</td><td>56783.97198752483 .. 56838.01658561399</td><td>20.227484 .. 19.866135</td><td>0.05823056 .. 0.039916977</td><td>3.047288642479729</td><td>-1.0774255379966193</td></tr>\n",
       "<tr><td>69</td><td>17.1857</td><td>0.01921814</td><td>56783.9719875793 .. 56838.016585657846</td><td>17.195429 .. 17.16592</td><td>0.0045967298 .. 0.0042410134</td><td>3.047310427486128</td><td>-1.077421028369024</td></tr>\n",
       "<tr><td>70</td><td>21.223387</td><td>0.19643547</td><td>56783.97198730225 .. 56838.01658527385</td><td>21.334959 .. 21.457848</td><td>0.1524508 .. 0.16001223</td><td>3.0471624750055373</td><td>-1.077413392557434</td></tr>\n",
       "<tr><td>71</td><td>20.036697</td><td>0.081952326</td><td>56783.9719873913 .. 56838.01658536919</td><td>20.1645 .. 20.071356</td><td>0.05503659 .. 0.047794674</td><td>3.047203545877004</td><td>-1.0774105134562582</td></tr>\n",
       "<tr><td>72</td><td>20.885418</td><td>0.1906514</td><td>56783.97198725571 .. 56838.016585197554</td><td>20.84652 .. 20.86143</td><td>0.10000583 .. 0.09562873</td><td>3.047134901634811</td><td>-1.0774098701594306</td></tr>\n",
       "<tr><td>73</td><td>21.657427</td><td>0.3342278</td><td>56783.971987576166 .. 56838.0165855814</td><td>21.59892 .. 22.232937</td><td>0.19081487 .. 0.3042978</td><td>3.0472921090208813</td><td>-1.0774072485348862</td></tr>\n",
       "<tr><td>74</td><td>16.489353</td><td>0.0067325593</td><td>56783.97198700519 .. 56838.016584856254</td><td>16.489864 .. 16.488243</td><td>0.0027961049 .. 0.002640221</td><td>3.0470024949948655</td><td>-1.0774040774825098</td></tr>\n",
       "<tr><td>75</td><td>18.32043</td><td>0.14141198</td><td>56783.97198697687 .. 56838.016584874575</td><td>18.426273 .. 18.207657</td><td>0.012166412 .. 0.009558629</td><td>3.0470006558870284</td><td>-1.077414232663834</td></tr>\n",
       "<tr><td>76</td><td>20.583122</td><td>0.16665696</td><td>56783.97198757302 .. 56838.01658551082</td><td>20.499096 .. 20.768808</td><td>0.07387596 .. 0.08827161</td><td>3.047275142990355</td><td>-1.077394585599397</td></tr>\n",
       "<tr><td>77</td><td>16.098194</td><td>0.0051926803</td><td>56783.971987165736 .. 56838.016585093326</td><td>16.101482 .. 16.092665</td><td>0.0025565093 .. 0.0024010085</td><td>3.0470915805506524</td><td>-1.0774112754975729</td></tr>\n",
       "<tr><td>78</td><td>16.410461</td><td>0.008810196</td><td>56783.97198720647 .. 56838.01658505731</td><td>16.416952 .. 16.403776</td><td>0.0026661034 .. 0.0024995883</td><td>3.0470919909420795</td><td>-1.07739483710816</td></tr>\n",
       "<tr><td>79</td><td>21.371613</td><td>0.25709414</td><td>56783.971987147015 .. 56838.01658491417</td><td>21.35117 .. 21.536154</td><td>0.15434006 .. 0.17082581</td><td>3.0470462302534664</td><td>-1.077381658454663</td></tr>\n",
       "<tr><td>80</td><td>22.153929</td><td>0.6390617</td><td>56783.97198740946 .. 56838.016585233665</td><td>21.816845 .. 22.176834</td><td>0.2285111 .. 0.29060814</td><td>3.0471761551710284</td><td>-1.0773804954814885</td></tr>\n",
       "<tr><td>81</td><td>22.611027</td><td>0.7816861</td><td>56783.97198736476 .. 56838.01658514295</td><td>22.509197 .. 23.625458</td><td>0.39749953 .. 0.8372439</td><td>3.0471456501705756</td><td>-1.0773737991914956</td></tr>\n",
       "<tr><td>82</td><td>16.656654</td><td>0.006386757</td><td>56783.97198771499 .. 56838.01658559978</td><td>16.659946 .. 16.669273</td><td>0.0031403624 .. 0.002985069</td><td>3.0473260657483716</td><td>-1.077378020776909</td></tr>\n",
       "<tr><td>83</td><td>17.018757</td><td>0.006822891</td><td>56783.9719876072 .. 56838.01658544737</td><td>17.01397 .. 17.014639</td><td>0.0040228344 .. 0.0037977668</td><td>3.0472678112298293</td><td>-1.0773744807598227</td></tr>\n",
       "<tr><td>84</td><td>19.632908</td><td>0.08719581</td><td>56783.97198752576 .. 56838.01658528513</td><td>19.73092 .. 19.55927</td><td>0.037547763 .. 0.03044205</td><td>3.047212930852855</td><td>-1.0773628629174818</td></tr>\n",
       "<tr><td>85</td><td>16.55907</td><td>0.0053451154</td><td>56783.97198728429 .. 56838.01658500313</td><td>16.559092 .. 16.56664</td><td>0.0029284013 .. 0.0027818438</td><td>3.047096155138042</td><td>-1.0773662073364023</td></tr>\n",
       "<tr><td>86</td><td>20.833181</td><td>0.20789352</td><td>56783.97198721048 .. 56838.01658487331</td><td>20.793968 .. 21.424107</td><td>0.095374376 .. 0.15527873</td><td>3.047050392720053</td><td>-1.0773589409722792</td></tr>\n",
       "<tr><td>87</td><td>20.988735</td><td>0.1934771</td><td>56783.97198703396 .. 56838.01658463404</td><td>20.893032 .. 21.293808</td><td>0.10387773 .. 0.13880192</td><td>3.0469573880573</td><td>-1.0773550888121506</td></tr>\n",
       "<tr><td>88</td><td>18.226313</td><td>0.018259773</td><td>56783.971987580546 .. 56838.01658531578</td><td>18.222534 .. 18.222904</td><td>0.010278157 .. 0.009689445</td><td>3.0472317344106896</td><td>-1.0773557718536944</td></tr>\n",
       "<tr><td>89</td><td>21.680735</td><td>0.4862277</td><td>56783.971987101395 .. 56838.01658470051</td><td>21.81792 .. 21.58146</td><td>0.22826529 .. 0.17737953</td><td>3.046987165330361</td><td>-1.0773518249293166</td></tr>\n",
       "<tr><td>90</td><td>19.779926</td><td>0.069096945</td><td>56783.971987408215 .. 56838.01658507384</td><td>19.669277 .. 19.981276</td><td>0.0355385 .. 0.044100706</td><td>3.0471390051165113</td><td>-1.07735043398437</td></tr>\n",
       "<tr><td>91</td><td>21.443546</td><td>0.2685381</td><td>56783.97198742797 .. 56838.016585015765</td><td>21.595734 .. 21.215595</td><td>0.1898139 .. 0.12990853</td><td>3.04712983207916</td><td>-1.077334746498492</td></tr>\n",
       "<tr><td>92</td><td>17.6648</td><td>0.014485588</td><td>56783.97198727005 .. 56838.01658483091</td><td>17.653204 .. 17.673092</td><td>0.006490358 .. 0.0062168427</td><td>3.0470533674362485</td><td>-1.0773368494382285</td></tr>\n",
       "<tr><td>93</td><td>21.395506</td><td>0.26493537</td><td>56783.97198761103 .. 56838.016585188954</td><td>21.241774 .. 22.693787</td><td>0.14059278 .. 0.43536532</td><td>3.047208989148393</td><td>-1.07732450019791</td></tr>\n",
       "<tr><td>94</td><td>20.150196</td><td>0.094847225</td><td>56783.97198715022 .. 56838.016584598045</td><td>20.17811 .. 20.29742</td><td>0.055500615 .. 0.05818496</td><td>3.046973983416232</td><td>-1.077320856823333</td></tr>\n",
       "<tr><td>95</td><td>20.428587</td><td>0.09942451</td><td>56783.9719871426 .. 56838.01658461329</td><td>20.441647 .. 20.497116</td><td>0.069980614 .. 0.06936705</td><td>3.046975867540982</td><td>-1.0773255466364404</td></tr>\n",
       "<tr><td>96</td><td>21.373926</td><td>0.29256287</td><td>56783.971987925026 .. 56838.01658552643</td><td>21.587847 .. 21.772522</td><td>0.18882251 .. 0.2086873</td><td>3.0473540873244302</td><td>-1.077314589913941</td></tr>\n",
       "<tr><td>97</td><td>18.822346</td><td>0.034207612</td><td>56783.971987869736 .. 56838.01658542578</td><td>18.811579 .. 18.857395</td><td>0.016873188 .. 0.016543215</td><td>3.0473190229517986</td><td>-1.0773085068772612</td></tr>\n",
       "<tr><td>98</td><td>21.494415</td><td>0.2982058</td><td>56783.97198715976 .. 56838.01658454198</td><td>21.471905 .. 22.222256</td><td>0.17067614 .. 0.3008007</td><td>3.0469630965206758</td><td>-1.0773079575831286</td></tr>\n",
       "<tr><td>99</td><td>17.464066</td><td>0.020000076</td><td>56783.97198727934 .. 56838.01658470616</td><td>17.458897 .. 17.494549</td><td>0.0055818097 .. 0.0054119895</td><td>3.0470265766230686</td><td>-1.0773109632592814</td></tr>\n",
       "<tr><td>100</td><td>20.389412</td><td>0.20811372</td><td>56783.97198733892 .. 56838.01658474257</td><td>20.56231 .. 20.235083</td><td>0.07780837 .. 0.05509655</td><td>3.0470477333027217</td><td>-1.0773038404945092</td></tr>\n",
       "<tr><td>101</td><td>20.191479</td><td>0.22094367</td><td>56783.97198787035 .. 56838.01658537721</td><td>19.937706 .. 20.364546</td><td>0.08882832 .. 0.12173908</td><td>3.047307945570235</td><td>-1.07729913939261</td></tr>\n",
       "<tr><td>102</td><td>18.418013</td><td>0.016870918</td><td>56783.97198770218 .. 56838.01658516505</td><td>18.420927 .. 18.41203</td><td>0.0121078715 .. 0.011331537</td><td>3.0472229850896335</td><td>-1.0772984798915748</td></tr>\n",
       "<tr><td>103</td><td>22.313429</td><td>0.644211</td><td>56783.9719879172 .. 56838.01658541158</td><td>22.504644 .. 22.40844</td><td>0.39610416 .. 0.34948048</td><td>3.047325902446723</td><td>-1.077294623558838</td></tr>\n",
       "<tr><td>104</td><td>20.706066</td><td>0.23478425</td><td>56783.971987262245 .. 56838.01658460697</td><td>20.53185 .. 20.575909</td><td>0.075718015 .. 0.0743308</td><td>3.0470000339537133</td><td>-1.0772961538370822</td></tr>\n",
       "<tr><td>105</td><td>18.266361</td><td>0.015455246</td><td>56783.97198765686 .. 56838.0165850906</td><td>18.260368 .. 18.319992</td><td>0.014297183 .. 0.014170844</td><td>3.0471961044894766</td><td>-1.0772950174662774</td></tr>\n",
       "<tr><td>106</td><td>19.989925</td><td>0.087084316</td><td>56783.971987461824 .. 56838.0165848245</td><td>19.990019 .. 20.036947</td><td>0.04705041 .. 0.046277132</td><td>3.047092951680136</td><td>-1.0772904405872494</td></tr>\n",
       "<tr><td>107</td><td>22.6865</td><td>0.70060956</td><td>56783.97198728235 .. 56838.01658458073</td><td>22.858469 .. nan</td><td>0.5154894 .. nan</td><td>3.046998286358029</td><td>-1.0772864298267346</td></tr>\n",
       "<tr><td>108</td><td>18.922157</td><td>0.030880852</td><td>56783.97198757212 .. 56838.01658494615</td><td>18.927448 .. 18.97964</td><td>0.018604664 .. 0.018352877</td><td>3.0471446317410242</td><td>-1.077287553459007</td></tr>\n",
       "<tr><td>109</td><td>20.832245</td><td>0.31228137</td><td>56783.971988084435 .. 56838.016585553254</td><td>21.481134 .. 21.232056</td><td>0.32710496 .. 0.25371593</td><td>3.047394393809333</td><td>-1.077282113236004</td></tr>\n",
       "<tr><td>110</td><td>18.739944</td><td>0.0418816</td><td>56783.97198783397 .. 56838.016585250945</td><td>18.704636 .. 18.798193</td><td>0.015387932 .. 0.015716253</td><td>3.0472710159632417</td><td>-1.0772837325200724</td></tr>\n",
       "<tr><td>111</td><td>21.513147</td><td>0.2544992</td><td>56783.97198754521 .. 56838.016584854086</td><td>21.943819 .. 21.40802</td><td>0.25309342 .. 0.15311828</td><td>3.047117630757359</td><td>-1.0772764097274752</td></tr>\n",
       "<tr><td>112</td><td>18.35307</td><td>0.023738975</td><td>56783.971987394936 .. 56838.01658468477</td><td>18.331398 .. 18.369446</td><td>0.011217093 .. 0.010920787</td><td>3.047046394139512</td><td>-1.077279660605774</td></tr>\n",
       "<tr><td>113</td><td>20.087719</td><td>0.11788048</td><td>56783.97198780803 .. 56838.0165851734</td><td>19.998592 .. 20.061977</td><td>0.04745348 .. 0.04735415</td><td>3.0472475700718387</td><td>-1.0772751174524948</td></tr>\n",
       "<tr><td>114</td><td>22.242739</td><td>0.5159642</td><td>56783.97198727385 .. 56838.016584510406</td><td>22.141384 .. 21.938957</td><td>0.2967528 .. 0.23887895</td><td>3.046980244617532</td><td>-1.0772750751094595</td></tr>\n",
       "<tr><td>115</td><td>18.362906</td><td>0.030563278</td><td>56783.97198793184 .. 56838.01658532229</td><td>18.339548 .. 18.427193</td><td>0.011315343 .. 0.01148017</td><td>3.0473084321040447</td><td>-1.0772742164045386</td></tr>\n",
       "<tr><td>116</td><td>19.112206</td><td>0.04119282</td><td>56783.97198733894 .. 56838.01658457818</td><td>19.067963 .. 19.179773</td><td>0.020974686 .. 0.021802159</td><td>3.0470098183916314</td><td>-1.077272609816276</td></tr>\n",
       "<tr><td>117</td><td>21.819077</td><td>0.31638652</td><td>56783.97198757612 .. 56838.01658485729</td><td>22.417908 .. 21.600742</td><td>0.36969063 .. 0.18032968</td><td>3.0471249882631275</td><td>-1.0772697309941617</td></tr>\n",
       "<tr><td>118</td><td>19.97453</td><td>0.06992828</td><td>56783.97198724386 .. 56838.01658444616</td><td>19.923965 .. 20.046968</td><td>0.044326987 .. 0.04663349</td><td>3.046959004811631</td><td>-1.0772699376546695</td></tr>\n",
       "<tr><td>119</td><td>20.238115</td><td>0.13194828</td><td>56783.971987675286 .. 56838.016584945966</td><td>20.253752 .. 20.20874</td><td>0.059350643 .. 0.053857446</td><td>3.047166676329412</td><td>-1.0772632047245407</td></tr>\n",
       "<tr><td>120</td><td>20.06939</td><td>0.17869087</td><td>56783.971987953024 .. 56838.01658528125</td><td>20.21803 .. 19.851286</td><td>0.057576966 .. 0.039340157</td><td>3.047303492171348</td><td>-1.077261428414566</td></tr>\n",
       "<tr><td>121</td><td>19.683838</td><td>0.23315121</td><td>56783.97198799589 .. 56838.01658533359</td><td>19.823479 .. 19.488838</td><td>0.040691268 .. 0.028613312</td><td>3.0473247461542976</td><td>-1.0772612669090946</td></tr>\n",
       "<tr><td>122</td><td>18.01421</td><td>0.010889244</td><td>56783.971987455974 .. 56838.01658469308</td><td>18.009018 .. 18.044844</td><td>0.008606735 .. 0.008359017</td><td>3.047061382080712</td><td>-1.0772668557846077</td></tr>\n",
       "<tr><td>123</td><td>19.290134</td><td>0.17163368</td><td>56783.97198745256 .. 56838.01658465086</td><td>19.295568 .. 19.343845</td><td>0.050269227 .. 0.049470097</td><td>3.0470509124938143</td><td>-1.0772596389311333</td></tr>\n",
       "<tr><td>124</td><td>19.501242</td><td>0.050849877</td><td>56783.97198742676 .. 56838.01658459471</td><td>19.498228 .. 19.56222</td><td>0.030506853 .. 0.030451069</td><td>3.0470324367812127</td><td>-1.0772550546826547</td></tr>\n",
       "<tr><td>125</td><td>18.005959</td><td>0.020715676</td><td>56783.971987610435 .. 56838.01658474531</td><td>17.988508 .. 18.053713</td><td>0.008464114 .. 0.008420102</td><td>3.0471065024573463</td><td>-1.0772403762101121</td></tr>\n",
       "<tr><td>126</td><td>21.041882</td><td>0.18586098</td><td>56783.97198745272 .. 56838.01658452049</td><td>20.958485 .. 21.067455</td><td>0.10976593 .. 0.114109606</td><td>3.047020875346389</td><td>-1.0772348385666803</td></tr>\n",
       "<tr><td>127</td><td>19.227947</td><td>0.057190057</td><td>56783.971987849414 .. 56838.01658499759</td><td>19.204874 .. 19.242592</td><td>0.023641309 .. 0.023051472</td><td>3.0472158628828003</td><td>-1.0772319722162222</td></tr>\n",
       "<tr><td>128</td><td>19.26995</td><td>0.32272246</td><td>56783.9719876745 .. 56838.0165847731</td><td>19.572422 .. 18.980595</td><td>0.06427674 .. 0.03578329</td><td>3.0471266290636483</td><td>-1.077230555391852</td></tr>\n",
       "<tr><td>129</td><td>20.865324</td><td>0.193638</td><td>56783.971987588506 .. 56838.0165846556</td><td>20.936949 .. 21.132902</td><td>0.10777387 .. 0.12080366</td><td>3.0470811131897064</td><td>-1.07722850250624</td></tr>\n",
       "<tr><td>130</td><td>18.0638</td><td>0.017638741</td><td>56783.971987725665 .. 56838.01658481912</td><td>18.065899 .. 18.081411</td><td>0.009013609 .. 0.0086135175</td><td>3.047148197649865</td><td>-1.077227237799744</td></tr>\n",
       "<tr><td>131</td><td>20.748833</td><td>0.22225067</td><td>56783.97198796072 .. 56838.01658508625</td><td>20.70822 .. 20.506903</td><td>0.123108596 .. 0.097532816</td><td>3.0472601422218593</td><td>-1.0772225779156408</td></tr>\n",
       "<tr><td>132</td><td>20.46923</td><td>0.10822201</td><td>56783.97198799071 .. 56838.01658509367</td><td>20.46207 .. 20.567179</td><td>0.071274064 .. 0.07384884</td><td>3.0472682737820356</td><td>-1.0772169185243847</td></tr>\n",
       "<tr><td>133</td><td>19.877407</td><td>0.07372505</td><td>56783.97198746386 .. 56838.01658444446</td><td>19.814459 .. 19.899036</td><td>0.04023205 .. 0.0409279</td><td>3.0470057264478694</td><td>-1.077217769192957</td></tr>\n",
       "<tr><td>134</td><td>22.44749</td><td>0.59748006</td><td>56783.971987818324 .. 56838.01658485222</td><td>22.30508 .. 23.923185</td><td>0.33820108 .. 1.0062888</td><td>3.047175672001428</td><td>-1.0772116896074238</td></tr>\n",
       "<tr><td>135</td><td>20.959028</td><td>0.22621399</td><td>56783.97198795479 .. 56838.01658501856</td><td>20.83071 .. 20.898432</td><td>0.098363176 .. 0.09865394</td><td>3.0472432570940926</td><td>-1.0772111203424983</td></tr>\n",
       "<tr><td>136</td><td>21.545868</td><td>0.34020597</td><td>56783.971987788645 .. 56838.016584805</td><td>21.642296 .. 21.691998</td><td>0.1969852 .. 0.19466358</td><td>3.0471584242594694</td><td>-1.0772097134246001</td></tr>\n",
       "<tr><td>137</td><td>20.286404</td><td>0.12909435</td><td>56783.971987409546 .. 56838.016584312005</td><td>20.256891 .. 20.599812</td><td>0.059352618 .. 0.07582357</td><td>3.046963549490599</td><td>-1.0772054092898977</td></tr>\n",
       "<tr><td>138</td><td>19.428589</td><td>0.11360382</td><td>56783.971987912264 .. 56838.01658492722</td><td>19.321913 .. 19.585476</td><td>0.02616396 .. 0.031103985</td><td>3.0472130822095598</td><td>-1.0772037934109027</td></tr>\n",
       "<tr><td>139</td><td>17.296185</td><td>0.009541321</td><td>56783.97198776202 .. 56838.01658472998</td><td>17.296122 .. 17.312632</td><td>0.004930724 .. 0.004714649</td><td>3.047135419552646</td><td>-1.0772017394112965</td></tr>\n",
       "<tr><td>140</td><td>20.961708</td><td>0.22694793</td><td>56783.971987663186 .. 56838.01658456941</td><td>20.879765 .. 20.707743</td><td>0.102484286 .. 0.08340766</td><td>3.0470772231745227</td><td>-1.0771945295289573</td></tr>\n",
       "<tr><td>141</td><td>19.432611</td><td>0.4980273</td><td>56783.97198810723 .. 56838.01658543664</td><td>20.036217 .. 18.985693</td><td>0.049083207 .. 0.018471723</td><td>3.047372356236961</td><td>-1.077254594565647</td></tr>\n",
       "<tr><td>142</td><td>12.549112</td><td>0.12535264</td><td>56783.97198811177 .. 56838.016585334044</td><td>12.612978 .. 12.491999</td><td>0.00050087174 .. 0.000540426</td><td>3.04734965089929</td><td>-1.077234039980859</td></tr>\n",
       "<tr><td>143</td><td>19.37352</td><td>0.105339855</td><td>56783.971988069236 .. 56838.01658515404</td><td>19.567726 .. 19.295025</td><td>0.032466356 .. 0.024137938</td><td>3.047299010667858</td><td>-1.0772098773567256</td></tr>\n",
       "<tr><td>144</td><td>19.230873</td><td>0.040687524</td><td>56783.97198803459 .. 56838.01658508282</td><td>19.206882 .. 19.23486</td><td>0.023682276 .. 0.022900322</td><td>3.047275161570427</td><td>-1.0772045169487536</td></tr>\n",
       "<tr><td>145</td><td>20.771173</td><td>0.17492656</td><td>56783.97198822973 .. 56838.016585286714</td><td>21.067852 .. 20.695938</td><td>0.12091856 .. 0.082714505</td><td>3.0473639712839398</td><td>-1.07719724841074</td></tr>\n",
       "<tr><td>146</td><td>17.350546</td><td>0.5129702</td><td>56783.97198813405 .. 56838.01658525864</td><td>17.839134 .. 17.123047</td><td>0.013781541 .. 0.0069907494</td><td>3.0473370195888574</td><td>-1.0772144674403907</td></tr>\n",
       "<tr><td>147</td><td>17.71582</td><td>0.4551817</td><td>56783.97198818725 .. 56838.016585419995</td><td>18.083422 .. 17.287624</td><td>0.009160604 .. 0.0046352698</td><td>3.04738563827824</td><td>-1.0772325721135139</td></tr>\n",
       "<tr><td>148</td><td>18.077202</td><td>0.015778465</td><td>56783.971987818484 .. 56838.01658473584</td><td>18.082247 .. 18.095732</td><td>0.009128714 .. 0.008711979</td><td>3.047148857096449</td><td>-1.077189543557379</td></tr>\n",
       "<tr><td>149</td><td>22.610918</td><td>0.7280846</td><td>56783.971988228455 .. 56838.01658519656</td><td>22.431274 .. nan</td><td>0.37360448 .. nan</td><td>3.0473428960240314</td><td>-1.0771804244683663</td></tr>\n",
       "<tr><td>150</td><td>19.243305</td><td>0.055479392</td><td>56783.97198791273 .. 56838.01658480092</td><td>19.18768 .. 19.30853</td><td>0.02326275 .. 0.024398196</td><td>3.0471840463709703</td><td>-1.0771796940082965</td></tr>\n",
       "<tr><td>151</td><td>17.00494</td><td>0.008594246</td><td>56783.97198775573 .. 56838.01658461294</td><td>16.994864 .. 17.03105</td><td>0.0039520157 .. 0.0038334448</td><td>3.0471070763739068</td><td>-1.0771809903565477</td></tr>\n",
       "<tr><td>152</td><td>17.375626</td><td>0.013414307</td><td>56783.97198760803 .. 56838.016584440775</td><td>17.378489 .. 17.365808</td><td>0.00524061 .. 0.004903014</td><td>3.0470357464214053</td><td>-1.0771830940205354</td></tr>\n",
       "<tr><td>153</td><td>18.772253</td><td>0.097845115</td><td>56783.97198765256 .. 56838.01658446855</td><td>18.698471 .. 18.743824</td><td>0.029497605 .. 0.02895972</td><td>3.0470516873900237</td><td>-1.077177875456788</td></tr>\n",
       "<tr><td>154</td><td>21.842766</td><td>0.3441908</td><td>56783.971988271485 .. 56838.01658521101</td><td>21.612068 .. 22.697609</td><td>0.19222814 .. 0.436474</td><td>3.0473554381584314</td><td>-1.077173028180976</td></tr>\n",
       "<tr><td>155</td><td>21.380419</td><td>0.37299225</td><td>56783.971987829456 .. 56838.016584658726</td><td>21.252012 .. 21.854769</td><td>0.19563165 .. 0.3041341</td><td>3.047133420613744</td><td>-1.077172309816639</td></tr>\n",
       "<tr><td>156</td><td>20.942802</td><td>0.1840741</td><td>56783.971988049 .. 56838.016584926314</td><td>20.675762 .. 20.714464</td><td>0.085860744 .. 0.08397877</td><td>3.0472421415586313</td><td>-1.0771713946352013</td></tr>\n",
       "<tr><td>157</td><td>20.993319</td><td>0.18874173</td><td>56783.97198823063 .. 56838.01658513307</td><td>20.883104 .. 20.826338</td><td>0.102942884 .. 0.092658885</td><td>3.047328712067065</td><td>-1.0771678537727838</td></tr>\n",
       "<tr><td>158</td><td>19.463842</td><td>0.06313362</td><td>56783.97198801793 .. 56838.01658487182</td><td>19.430206 .. 19.449059</td><td>0.028743327 .. 0.027591078</td><td>3.0472229180313732</td><td>-1.0771683658331175</td></tr>\n",
       "<tr><td>159</td><td>21.995998</td><td>0.40686113</td><td>56783.971987856065 .. 56838.01658465996</td><td>21.641476 .. nan</td><td>0.19667315 .. nan</td><td>3.0471394025936136</td><td>-1.0771662744407247</td></tr>\n",
       "<tr><td>160</td><td>17.491257</td><td>0.01670578</td><td>56783.97198761371 .. 56838.01658437224</td><td>17.4912 .. 17.476263</td><td>0.005708319 .. 0.005330624</td><td>3.0470211596835135</td><td>-1.0771687374016639</td></tr>\n",
       "<tr><td>161</td><td>20.493917</td><td>0.15500553</td><td>56783.971987578385 .. 56838.016584290504</td><td>20.589893 .. 20.712307</td><td>0.079470105 .. 0.083667554</td><td>3.04699474718634</td><td>-1.0771615350206072</td></tr>\n",
       "<tr><td>162</td><td>21.417093</td><td>0.33013535</td><td>56783.97198817415 .. 56838.01658501112</td><td>21.402979 .. 21.404015</td><td>0.16096574 .. 0.15261085</td><td>3.0472884910682123</td><td>-1.077158005053277</td></tr>\n",
       "<tr><td>163</td><td>21.154222</td><td>0.27775687</td><td>56783.971987775316 .. 56838.016584498335</td><td>21.240675 .. 21.52145</td><td>0.13989457 .. 0.16841324</td><td>3.0470848381542397</td><td>-1.0771546027959553</td></tr>\n",
       "<tr><td>164</td><td>17.186367</td><td>0.0075878906</td><td>56783.97198825302 .. 56838.01658508992</td><td>17.186577 .. 17.200106</td><td>0.004548147 .. 0.0043398775</td><td>3.0473235485150347</td><td>-1.0771543813849316</td></tr>\n",
       "<tr><td>165</td><td>18.009834</td><td>0.016526528</td><td>56783.97198802946 .. 56838.0165848032</td><td>18.010645 .. 18.01408</td><td>0.008611231 .. 0.0081530325</td><td>3.047209557823076</td><td>-1.077152616330553</td></tr>\n",
       "<tr><td>166</td><td>20.0185</td><td>0.17620534</td><td>56783.97198795539 .. 56838.01658468006</td><td>20.006363 .. 20.126144</td><td>0.09418823 .. 0.09883502</td><td>3.0471652998493766</td><td>-1.0771466832703738</td></tr>\n",
       "<tr><td>167</td><td>20.23582</td><td>0.08885849</td><td>56783.97198835821 .. 56838.01658516891</td><td>20.235449 .. 20.592203</td><td>0.058371074 .. 0.07548826</td><td>3.047364282810215</td><td>-1.0771445889942541</td></tr>\n",
       "<tr><td>168</td><td>18.200996</td><td>0.0222612</td><td>56783.971987847086 .. 56838.016584540535</td><td>18.179829 .. 18.266321</td><td>0.009877764 .. 0.010016966</td><td>3.0471099362481104</td><td>-1.0771457044596533</td></tr>\n",
       "<tr><td>169</td><td>20.375422</td><td>0.15076275</td><td>56783.97198821578 .. 56838.01658497739</td><td>20.375992 .. 20.264828</td><td>0.06600617 .. 0.05657139</td><td>3.047289618849367</td><td>-1.077141787244631</td></tr>\n",
       "<tr><td>170</td><td>19.37139</td><td>0.17361675</td><td>56783.971987675126 .. 56838.01658430178</td><td>19.46128 .. 19.427824</td><td>0.058178768 .. 0.05329593</td><td>3.0470180616911478</td><td>-1.077140878875423</td></tr>\n",
       "<tr><td>171</td><td>17.975895</td><td>0.014457359</td><td>56783.97198763428 .. 56838.0165842413</td><td>17.99019 .. 17.998188</td><td>0.008454217 .. 0.008036726</td><td>3.046995369873317</td><td>-1.0771390144112936</td></tr>\n",
       "<tr><td>172</td><td>18.825106</td><td>0.029548455</td><td>56783.97198798933 .. 56838.016584670884</td><td>18.789148 .. 18.867676</td><td>0.01648251 .. 0.016647575</td><td>3.047170448322402</td><td>-1.0771369412493668</td></tr>\n",
       "<tr><td>173</td><td>21.716883</td><td>0.4294392</td><td>56783.97198831831 .. 56838.01658502933</td><td>21.671227 .. 24.523516</td><td>0.20178896 .. 1.4067683</td><td>3.0473235428039533</td><td>-1.0771274832335545</td></tr>\n",
       "<tr><td>174</td><td>20.125767</td><td>0.083706744</td><td>56783.97198810474 .. 56838.016584768746</td><td>20.09745 .. 20.010977</td><td>0.051617738 .. 0.04520263</td><td>3.047217724575066</td><td>-1.0771283273252794</td></tr>\n",
       "<tr><td>175</td><td>21.78699</td><td>0.48926863</td><td>56783.97198839324 .. 56838.016585106045</td><td>21.811398 .. 22.292507</td><td>0.22679321 .. 0.3184809</td><td>3.0473572759322414</td><td>-1.077124393402151</td></tr>\n",
       "<tr><td>176</td><td>16.820042</td><td>0.007405815</td><td>56783.97198817088 .. 56838.016584849705</td><td>16.819384 .. 16.817917</td><td>0.0034910988 .. 0.003298504</td><td>3.047250554037908</td><td>-1.0771281172244318</td></tr>\n",
       "<tr><td>177</td><td>20.487812</td><td>0.11587483</td><td>56783.97198776721 .. 56838.016584296776</td><td>20.509031 .. 20.418634</td><td>0.074000195 .. 0.06464771</td><td>3.047036624091608</td><td>-1.0771182255356264</td></tr>\n",
       "<tr><td>178</td><td>21.336592</td><td>0.2609904</td><td>56783.9719878534 .. 56838.016584398276</td><td>21.179775 .. 20.988539</td><td>0.13267232 .. 0.10649009</td><td>3.047078482747037</td><td>-1.0771171923204637</td></tr>\n",
       "<tr><td>179</td><td>21.924122</td><td>0.406871</td><td>56783.97198803187 .. 56838.01658456981</td><td>21.618473 .. 24.367182</td><td>0.19274817 .. 1.294511</td><td>3.047156244452574</td><td>-1.0771077126732786</td></tr>\n",
       "<tr><td>180</td><td>21.281252</td><td>0.26335457</td><td>56783.97198796368 .. 56838.01658446941</td><td>21.216764 .. 21.538595</td><td>0.13697138 .. 0.17084546</td><td>3.047118495486941</td><td>-1.0771047142195302</td></tr>\n",
       "<tr><td>181</td><td>21.157736</td><td>0.21218148</td><td>56783.9719884073 .. 56838.01658498638</td><td>21.068466 .. 21.020475</td><td>0.12074172 .. 0.10965632</td><td>3.0473326761609054</td><td>-1.0770983511918637</td></tr>\n",
       "<tr><td>182</td><td>18.03221</td><td>0.016383972</td><td>56783.971988484525 .. 56838.01658508004</td><td>18.045588 .. 17.997194</td><td>0.008861769 .. 0.008046784</td><td>3.047370809398654</td><td>-1.077097937050769</td></tr>\n",
       "<tr><td>183</td><td>19.64708</td><td>0.07029102</td><td>56783.971988151025 .. 56838.01658465749</td><td>19.684727 .. 19.589714</td><td>0.03587562 .. 0.031187689</td><td>3.0472019711283505</td><td>-1.077096286149273</td></tr>\n",
       "<tr><td>184</td><td>20.060493</td><td>0.08277378</td><td>56783.97198786847 .. 56838.01658427729</td><td>20.019016 .. 19.976542</td><td>0.04807655 .. 0.043786444</td><td>3.0470538115415917</td><td>-1.0770906600810057</td></tr>\n",
       "<tr><td>185</td><td>20.18874</td><td>0.12545143</td><td>56783.97198851618 .. 56838.0165850579</td><td>20.276468 .. 20.111935</td><td>0.060457353 .. 0.049442995</td><td>3.047372475582234</td><td>-1.0770862696972767</td></tr>\n",
       "<tr><td>186</td><td>17.84893</td><td>0.009434052</td><td>56783.97198830359 .. 56838.016584786186</td><td>17.830124 .. 17.858196</td><td>0.0074435645 .. 0.007190989</td><td>3.0472643057021123</td><td>-1.077084773028603</td></tr>\n",
       "<tr><td>187</td><td>19.86731</td><td>0.15477687</td><td>56783.971988349425 .. 56838.01658484648</td><td>19.943283 .. 19.707417</td><td>0.045058347 .. 0.034602713</td><td>3.0472880230445205</td><td>-1.0770854212030543</td></tr>\n",
       "<tr><td>188</td><td>18.717188</td><td>0.024306374</td><td>56783.971988157646 .. 56838.016584595935</td><td>18.703297 .. 18.689072</td><td>0.015306455 .. 0.014285984</td><td>3.047189193342794</td><td>-1.0770830330546015</td></tr>\n",
       "<tr><td>189</td><td>19.59694</td><td>0.061322745</td><td>56783.97198852564 .. 56838.01658500826</td><td>19.541452 .. 19.63366</td><td>0.031667206 .. 0.03244378</td><td>3.047363050080152</td><td>-1.07707461207602</td></tr>\n",
       "<tr><td>190</td><td>18.609266</td><td>0.025350837</td><td>56783.97198828751 .. 56838.016584691206</td><td>18.56764 .. 18.638609</td><td>0.013645579 .. 0.013689535</td><td>3.0472389574742564</td><td>-1.077070522218703</td></tr>\n",
       "<tr><td>191</td><td>22.111845</td><td>0.52113575</td><td>56783.97198856687 .. 56838.016584950514</td><td>21.668747 .. nan</td><td>0.20117714 .. nan</td><td>3.047358547967336</td><td>-1.0770539260174614</td></tr>\n",
       "<tr><td>192</td><td>19.091946</td><td>0.05529873</td><td>56783.97198830408 .. 56838.01658462402</td><td>19.07381 .. 19.02364</td><td>0.021036351 .. 0.019035004</td><td>3.0472270110584616</td><td>-1.0770538519377637</td></tr>\n",
       "<tr><td>193</td><td>21.275696</td><td>0.29859534</td><td>56783.97198855953 .. 56838.01658489375</td><td>21.244324 .. 21.478115</td><td>0.14035784 .. 0.16245697</td><td>3.047343885848964</td><td>-1.0770448730649274</td></tr>\n",
       "<tr><td>194</td><td>20.984922</td><td>0.25993606</td><td>56783.97198849873 .. 56838.01658480866</td><td>20.861599 .. 21.03702</td><td>0.10080004 .. 0.1111732</td><td>3.047311248906178</td><td>-1.0770430448743802</td></tr>\n",
       "<tr><td>195</td><td>19.059612</td><td>0.047088396</td><td>56783.97198838837 .. 56838.01658465185</td><td>19.036255 .. 19.073458</td><td>0.02036301 .. 0.019873979</td><td>3.0472514690189465</td><td>-1.077039272230704</td></tr>\n",
       "<tr><td>196</td><td>15.192134</td><td>0.016088981</td><td>56783.971988196805 .. 56838.01658446727</td><td>15.205627 .. 15.184422</td><td>0.0012935844 .. 0.0012262414</td><td>3.047167902362375</td><td>-1.0770493628813633</td></tr>\n",
       "<tr><td>197</td><td>17.581198</td><td>0.2178244</td><td>56783.97198820296 .. 56838.01658442154</td><td>17.711134 .. 17.466187</td><td>0.006764549 .. 0.005289077</td><td>3.0471586759321516</td><td>-1.077039224513255</td></tr>\n",
       "<tr><td>198</td><td>15.823617</td><td>0.02487236</td><td>56783.97198813492 .. 56838.0165844185</td><td>15.847002 .. 15.782246</td><td>0.0021407148 .. 0.0019461054</td><td>3.047143412797805</td><td>-1.0770546839373418</td></tr>\n",
       "<tr><td>199</td><td>20.35153</td><td>0.11873157</td><td>56783.97198859584 .. 56838.016584851146</td><td>20.339432 .. 20.37399</td><td>0.06381823 .. 0.06223953</td><td>3.0473418285136598</td><td>-1.077028224353924</td></tr>\n",
       "<tr><td>200</td><td>20.463806</td><td>0.14259475</td><td>56783.971988261925 .. 56838.016584368415</td><td>20.369267 .. 20.812147</td><td>0.06540093 .. 0.09129172</td><td>3.047159050013405</td><td>-1.0770152352678923</td></tr>\n",
       "<tr><td>201</td><td>19.08642</td><td>0.04527046</td><td>56783.971988332625 .. 56838.016584423276</td><td>19.084988 .. 19.086458</td><td>0.021217609 .. 0.020085128</td><td>3.0471868304902765</td><td>-1.0770089925485629</td></tr>\n",
       "<tr><td>202</td><td>18.689323</td><td>0.024424935</td><td>56783.971988558624 .. 56838.016584693185</td><td>18.665846 .. 18.672037</td><td>0.014820396 .. 0.014081655</td><td>3.0472974344016968</td><td>-1.077006992457037</td></tr>\n",
       "<tr><td>203</td><td>19.175785</td><td>0.06650131</td><td>56783.97198839673 .. 56838.01658441914</td><td>19.118114 .. 19.039165</td><td>0.02183164 .. 0.019278815</td><td>3.0471995977547213</td><td>-1.076993098004299</td></tr>\n",
       "<tr><td>204</td><td>19.60424</td><td>0.046440545</td><td>56783.971988505284 .. 56838.016584520126</td><td>19.515913 .. 19.579247</td><td>0.03088973 .. 0.030882798</td><td>3.047246114441182</td><td>-1.0769866942176818</td></tr>\n",
       "<tr><td>205</td><td>16.738314</td><td>0.0065984726</td><td>56783.97198861768 .. 56838.0165846731</td><td>16.744957 .. 16.73257</td><td>0.004087745 .. 0.003824853</td><td>3.047305440883348</td><td>-1.0769892565623744</td></tr>\n",
       "<tr><td>206</td><td>18.814587</td><td>0.14128071</td><td>56783.97198866616 .. 56838.01658467854</td><td>18.903929 .. 18.690783</td><td>0.018159086 .. 0.014306463</td><td>3.047317070338044</td><td>-1.0769788608965178</td></tr>\n",
       "<tr><td>207</td><td>18.4797</td><td>0.2164419</td><td>56783.9719886351 .. 56838.01658462601</td><td>18.64051 .. 18.339165</td><td>0.027968908 .. 0.020199765</td><td>3.047298311704102</td><td>-1.076976205508617</td></tr>\n",
       "<tr><td>208</td><td>19.112797</td><td>0.07618942</td><td>56783.971988437355 .. 56838.01658438116</td><td>19.112226 .. 18.995934</td><td>0.021714315 .. 0.0185695</td><td>3.047199536164703</td><td>-1.0769763084848465</td></tr>\n",
       "<tr><td>209</td><td>19.964268</td><td>0.09050846</td><td>56783.97198866105 .. 56838.016584623154</td><td>19.938236 .. 19.941938</td><td>0.04477385 .. 0.042500693</td><td>3.047303203650238</td><td>-1.0769695463999645</td></tr>\n",
       "<tr><td>210</td><td>20.110264</td><td>0.11051419</td><td>56783.97198859475 .. 56838.016584532685</td><td>20.093996 .. 20.249523</td><td>0.051338054 .. 0.05572179</td><td>3.047268155728885</td><td>-1.0769679911501482</td></tr>\n",
       "</table><style>table.dataTable {clear: both; width: auto !important; margin: 0 !important;}\n",
       ".dataTables_info, .dataTables_length, .dataTables_filter, .dataTables_paginate{\n",
       "display: inline-block; margin-right: 1em; }\n",
       ".paginate_button { margin-right: 5px; }\n",
       "</style>\n",
       "<script>\n",
       "\n",
       "var astropy_sort_num = function(a, b) {\n",
       "    var a_num = parseFloat(a);\n",
       "    var b_num = parseFloat(b);\n",
       "\n",
       "    if (isNaN(a_num) && isNaN(b_num))\n",
       "        return ((a < b) ? -1 : ((a > b) ? 1 : 0));\n",
       "    else if (!isNaN(a_num) && !isNaN(b_num))\n",
       "        return ((a_num < b_num) ? -1 : ((a_num > b_num) ? 1 : 0));\n",
       "    else\n",
       "        return isNaN(a_num) ? -1 : 1;\n",
       "}\n",
       "\n",
       "require.config({paths: {\n",
       "    datatables: 'https://cdn.datatables.net/1.10.12/js/jquery.dataTables.min'\n",
       "}});\n",
       "require([\"datatables\"], function(){\n",
       "    console.log(\"$('#table4684692616-366588').dataTable()\");\n",
       "    \n",
       "jQuery.extend( jQuery.fn.dataTableExt.oSort, {\n",
       "    \"optionalnum-asc\": astropy_sort_num,\n",
       "    \"optionalnum-desc\": function (a,b) { return -astropy_sort_num(a, b); }\n",
       "});\n",
       "\n",
       "    $('#table4684692616-366588').dataTable({\n",
       "        order: [],\n",
       "        pageLength: 50,\n",
       "        lengthMenu: [[10, 25, 50, 100, 500, 1000, -1], [10, 25, 50, 100, 500, 1000, 'All']],\n",
       "        pagingType: \"full_numbers\",\n",
       "        columnDefs: [{targets: [0, 1, 2, 3, 4, 5, 6, 7], type: \"optionalnum\"}]\n",
       "    });\n",
       "});\n",
       "</script>\n"
      ],
      "text/plain": [
       "<IPython.core.display.HTML object>"
      ]
     },
     "execution_count": 73,
     "metadata": {},
     "output_type": "execute_result"
    }
   ],
   "source": [
    "data.show_in_notebook()"
   ]
  },
  {
   "cell_type": "markdown",
   "metadata": {},
   "source": [
    "### write a file:\n",
    "\n",
    "Let's create some random data:"
   ]
  },
  {
   "cell_type": "code",
   "execution_count": 21,
   "metadata": {},
   "outputs": [],
   "source": [
    "import numpy as np \n",
    "ID=np.arange(1,201,dtype=int)\n",
    "d1=np.random.uniform(15.,25.,200)\n",
    "d2=np.random.uniform(0.01,0.15,200)\n",
    "d3=np.random.uniform(0.01,15.,200)"
   ]
  },
  {
   "cell_type": "markdown",
   "metadata": {},
   "source": [
    "We will need both the `fits` package and the `Table` package from `astropy`:"
   ]
  },
  {
   "cell_type": "code",
   "execution_count": 13,
   "metadata": {},
   "outputs": [],
   "source": [
    "from astropy.table import Table\n",
    "from astropy.io import fits"
   ]
  },
  {
   "cell_type": "markdown",
   "metadata": {},
   "source": [
    "#### put your data in `Tables`\n",
    "\n",
    "For the sake of exercise, let's create two tables of data:"
   ]
  },
  {
   "cell_type": "code",
   "execution_count": 31,
   "metadata": {},
   "outputs": [],
   "source": [
    "table1=Table()\n",
    "table1[\"ID\"]=ID\n",
    "table1[\"data1\"]=d1\n",
    "table1[\"data2\"]=d2"
   ]
  },
  {
   "cell_type": "code",
   "execution_count": 35,
   "metadata": {},
   "outputs": [],
   "source": [
    "table2=Table()\n",
    "table2[\"data3\"]=d3"
   ]
  },
  {
   "cell_type": "markdown",
   "metadata": {},
   "source": [
    "Next, let's create columns with the data contained in the table. We can do two examples:\n",
    "\n",
    "1st. Let's put both tables together:"
   ]
  },
  {
   "cell_type": "code",
   "execution_count": 38,
   "metadata": {},
   "outputs": [],
   "source": [
    "col=[]\n",
    "for j in range(len(table1[0])):\n",
    "    col.append(fits.Column(name=table1.colnames[j], format='E', array=table1[table1.colnames[j]]))\n",
    "for j in range(len(table2[0])):\n",
    "    col.append(fits.Column(name=table2.colnames[j], format='E', array=table2[table2.colnames[j]]))"
   ]
  },
  {
   "cell_type": "code",
   "execution_count": 39,
   "metadata": {},
   "outputs": [
    {
     "data": {
      "text/plain": [
       "[name = 'ID'; format = 'E',\n",
       " name = 'data1'; format = 'E',\n",
       " name = 'data2'; format = 'E',\n",
       " name = 'data3'; format = 'E']"
      ]
     },
     "execution_count": 39,
     "metadata": {},
     "output_type": "execute_result"
    }
   ],
   "source": [
    "col"
   ]
  },
  {
   "cell_type": "markdown",
   "metadata": {},
   "source": [
    "2nd. Let's create two separate tables:"
   ]
  },
  {
   "cell_type": "code",
   "execution_count": 40,
   "metadata": {},
   "outputs": [],
   "source": [
    "col1=[]\n",
    "for j in range(len(table1[0])):\n",
    "    col1.append(fits.Column(name=table1.colnames[j], format='E', array=table1[table1.colnames[j]]))"
   ]
  },
  {
   "cell_type": "code",
   "execution_count": 41,
   "metadata": {},
   "outputs": [],
   "source": [
    "col2=[]\n",
    "for j in range(len(table2[0])):\n",
    "    col2.append(fits.Column(name=table2.colnames[j], format='E', array=table2[table2.colnames[j]]))"
   ]
  },
  {
   "cell_type": "markdown",
   "metadata": {},
   "source": [
    "#### Creates a header:\n",
    "\n",
    "The `fits` file requires a header:"
   ]
  },
  {
   "cell_type": "code",
   "execution_count": 14,
   "metadata": {},
   "outputs": [],
   "source": [
    "hdr=fits.Header()\n",
    "hdr['Author']='Julia Roquette'\n",
    "hdr['dataset']='some information'\n",
    "hdr[\"Comment\"]=\"some other information\""
   ]
  },
  {
   "cell_type": "markdown",
   "metadata": {},
   "source": [
    "#### Creates a primary unit:\n",
    "\n",
    "This header will come in the Primary unit of the `fits`"
   ]
  },
  {
   "cell_type": "code",
   "execution_count": 15,
   "metadata": {},
   "outputs": [],
   "source": [
    "phdu=fits.PrimaryHDU(header=hdr)"
   ]
  },
  {
   "cell_type": "markdown",
   "metadata": {},
   "source": [
    "#### Creates a data unit and write a \"regular\" fits file:"
   ]
  },
  {
   "cell_type": "markdown",
   "metadata": {},
   "source": [
    "Let's first consider the case of a single data unit in which we will store the 1st. case:"
   ]
  },
  {
   "cell_type": "code",
   "execution_count": 42,
   "metadata": {},
   "outputs": [],
   "source": [
    "hdu=[]\n",
    "hdu.append(fits.BinTableHDU.from_columns(fits.ColDefs(col)))"
   ]
  },
  {
   "cell_type": "markdown",
   "metadata": {},
   "source": [
    "Put everything together and save:"
   ]
  },
  {
   "cell_type": "code",
   "execution_count": 43,
   "metadata": {},
   "outputs": [],
   "source": [
    "hdul=fits.HDUList([phdu,hdu[0]])"
   ]
  },
  {
   "cell_type": "code",
   "execution_count": 44,
   "metadata": {},
   "outputs": [],
   "source": [
    "hdul.writeto(mydir+'mysimplefits.fits')"
   ]
  },
  {
   "cell_type": "code",
   "execution_count": 45,
   "metadata": {},
   "outputs": [
    {
     "name": "stdout",
     "output_type": "stream",
     "text": [
      "Filename: /Users/jroquette/work/prog/jupyter/tutorial/files/mysimplefits.fits\n",
      "No.    Name      Ver    Type      Cards   Dimensions   Format\n",
      "  0  PRIMARY       1 PrimaryHDU       7   ()      \n",
      "  1                1 BinTableHDU     16   200R x 4C   [E, E, E, E]   \n"
     ]
    }
   ],
   "source": [
    "fits.info(mydir+'mysimplefits.fits')"
   ]
  },
  {
   "cell_type": "markdown",
   "metadata": {},
   "source": [
    "#### Put several data units together and make a multi-extension file:"
   ]
  },
  {
   "cell_type": "markdown",
   "metadata": {},
   "source": [
    "To produce a multi-extension file you just need to append multiple data units:"
   ]
  },
  {
   "cell_type": "code",
   "execution_count": 46,
   "metadata": {},
   "outputs": [],
   "source": [
    "hdu=[]\n",
    "hdu.append(fits.BinTableHDU.from_columns(fits.ColDefs(col1)))\n",
    "hdu.append(fits.BinTableHDU.from_columns(fits.ColDefs(col2)))"
   ]
  },
  {
   "cell_type": "code",
   "execution_count": 49,
   "metadata": {},
   "outputs": [],
   "source": [
    "hdul=fits.HDUList([phdu,hdu[0],hdu[1]])"
   ]
  },
  {
   "cell_type": "code",
   "execution_count": 52,
   "metadata": {},
   "outputs": [],
   "source": [
    "hdul.writeto(mydir+'myfits.fits')"
   ]
  },
  {
   "cell_type": "code",
   "execution_count": 53,
   "metadata": {},
   "outputs": [
    {
     "name": "stdout",
     "output_type": "stream",
     "text": [
      "Filename: /Users/jroquette/work/prog/jupyter/tutorial/files/myfits.fits\n",
      "No.    Name      Ver    Type      Cards   Dimensions   Format\n",
      "  0  PRIMARY       1 PrimaryHDU       7   ()      \n",
      "  1                1 BinTableHDU     14   200R x 3C   [E, E, E]   \n",
      "  2                1 BinTableHDU     10   200R x 1C   [E]   \n"
     ]
    }
   ],
   "source": [
    "fits.info(mydir+'myfits.fits')"
   ]
  },
  {
   "cell_type": "code",
   "execution_count": null,
   "metadata": {},
   "outputs": [],
   "source": []
  }
 ],
 "metadata": {
  "kernelspec": {
   "display_name": "Python 3",
   "language": "python",
   "name": "python3"
  },
  "language_info": {
   "codemirror_mode": {
    "name": "ipython",
    "version": 3
   },
   "file_extension": ".py",
   "mimetype": "text/x-python",
   "name": "python",
   "nbconvert_exporter": "python",
   "pygments_lexer": "ipython3",
   "version": "3.7.1"
  },
  "latex_envs": {
   "LaTeX_envs_menu_present": true,
   "autoclose": false,
   "autocomplete": false,
   "bibliofile": "biblio.bib",
   "cite_by": "apalike",
   "current_citInitial": 1,
   "eqLabelWithNumbers": true,
   "eqNumInitial": 1,
   "hotkeys": {
    "equation": "Ctrl-E",
    "itemize": "Ctrl-I"
   },
   "labels_anchors": false,
   "latex_user_defs": false,
   "report_style_numbering": true,
   "user_envs_cfg": false
  },
  "toc": {
   "base_numbering": 1,
   "nav_menu": {},
   "number_sections": true,
   "sideBar": true,
   "skip_h1_title": true,
   "title_cell": "Table of Contents",
   "title_sidebar": "Contents",
   "toc_cell": true,
   "toc_position": {},
   "toc_section_display": true,
   "toc_window_display": true
  },
  "varInspector": {
   "cols": {
    "lenName": 16,
    "lenType": 16,
    "lenVar": 40
   },
   "kernels_config": {
    "python": {
     "delete_cmd_postfix": "",
     "delete_cmd_prefix": "del ",
     "library": "var_list.py",
     "varRefreshCmd": "print(var_dic_list())"
    },
    "r": {
     "delete_cmd_postfix": ") ",
     "delete_cmd_prefix": "rm(",
     "library": "var_list.r",
     "varRefreshCmd": "cat(var_dic_list()) "
    }
   },
   "types_to_exclude": [
    "module",
    "function",
    "builtin_function_or_method",
    "instance",
    "_Feature"
   ],
   "window_display": false
  }
 },
 "nbformat": 4,
 "nbformat_minor": 2
}
